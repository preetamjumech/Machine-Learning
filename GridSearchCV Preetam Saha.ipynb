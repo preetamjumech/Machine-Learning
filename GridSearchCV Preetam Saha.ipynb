{
 "cells": [
  {
   "cell_type": "code",
   "execution_count": 1,
   "id": "d7e546a5",
   "metadata": {},
   "outputs": [],
   "source": [
    "import numpy as np\n",
    "import pandas as pd\n",
    "import matplotlib.pyplot as plt"
   ]
  },
  {
   "cell_type": "code",
   "execution_count": 2,
   "id": "7495d788",
   "metadata": {},
   "outputs": [
    {
     "data": {
      "text/html": [
       "<div>\n",
       "<style scoped>\n",
       "    .dataframe tbody tr th:only-of-type {\n",
       "        vertical-align: middle;\n",
       "    }\n",
       "\n",
       "    .dataframe tbody tr th {\n",
       "        vertical-align: top;\n",
       "    }\n",
       "\n",
       "    .dataframe thead th {\n",
       "        text-align: right;\n",
       "    }\n",
       "</style>\n",
       "<table border=\"1\" class=\"dataframe\">\n",
       "  <thead>\n",
       "    <tr style=\"text-align: right;\">\n",
       "      <th></th>\n",
       "      <th>User ID</th>\n",
       "      <th>Gender</th>\n",
       "      <th>Age</th>\n",
       "      <th>EstimatedSalary</th>\n",
       "      <th>Purchased</th>\n",
       "    </tr>\n",
       "  </thead>\n",
       "  <tbody>\n",
       "    <tr>\n",
       "      <th>0</th>\n",
       "      <td>15624510</td>\n",
       "      <td>Male</td>\n",
       "      <td>19</td>\n",
       "      <td>19000</td>\n",
       "      <td>0</td>\n",
       "    </tr>\n",
       "    <tr>\n",
       "      <th>1</th>\n",
       "      <td>15810944</td>\n",
       "      <td>Male</td>\n",
       "      <td>35</td>\n",
       "      <td>20000</td>\n",
       "      <td>0</td>\n",
       "    </tr>\n",
       "    <tr>\n",
       "      <th>2</th>\n",
       "      <td>15668575</td>\n",
       "      <td>Female</td>\n",
       "      <td>26</td>\n",
       "      <td>43000</td>\n",
       "      <td>0</td>\n",
       "    </tr>\n",
       "    <tr>\n",
       "      <th>3</th>\n",
       "      <td>15603246</td>\n",
       "      <td>Female</td>\n",
       "      <td>27</td>\n",
       "      <td>57000</td>\n",
       "      <td>0</td>\n",
       "    </tr>\n",
       "    <tr>\n",
       "      <th>4</th>\n",
       "      <td>15804002</td>\n",
       "      <td>Male</td>\n",
       "      <td>19</td>\n",
       "      <td>76000</td>\n",
       "      <td>0</td>\n",
       "    </tr>\n",
       "  </tbody>\n",
       "</table>\n",
       "</div>"
      ],
      "text/plain": [
       "    User ID  Gender  Age  EstimatedSalary  Purchased\n",
       "0  15624510    Male   19            19000          0\n",
       "1  15810944    Male   35            20000          0\n",
       "2  15668575  Female   26            43000          0\n",
       "3  15603246  Female   27            57000          0\n",
       "4  15804002    Male   19            76000          0"
      ]
     },
     "execution_count": 2,
     "metadata": {},
     "output_type": "execute_result"
    }
   ],
   "source": [
    "df = pd.read_csv(\"Advertising_data.csv\")\n",
    "df.head()"
   ]
  },
  {
   "cell_type": "code",
   "execution_count": 3,
   "id": "a5e70c8d",
   "metadata": {},
   "outputs": [],
   "source": [
    "X = df.iloc[:,[2,3]].values\n",
    "y = df.iloc[:,-1].values"
   ]
  },
  {
   "cell_type": "markdown",
   "id": "5811387a",
   "metadata": {},
   "source": [
    "###  Splitting the dataset into the Training set and Test set"
   ]
  },
  {
   "cell_type": "code",
   "execution_count": 4,
   "id": "ee751148",
   "metadata": {},
   "outputs": [],
   "source": [
    "from sklearn.model_selection import train_test_split\n",
    "X_train,X_test,y_train,y_test = train_test_split(X,y,test_size=0.25,random_state=5)"
   ]
  },
  {
   "cell_type": "markdown",
   "id": "aa797587",
   "metadata": {},
   "source": [
    "### Feature Scaling"
   ]
  },
  {
   "cell_type": "code",
   "execution_count": 5,
   "id": "1c9786f5",
   "metadata": {},
   "outputs": [
    {
     "data": {
      "text/plain": [
       "array([[ 0.77063564,  0.79680907],\n",
       "       [-1.82054274, -1.28182329],\n",
       "       [-0.18906005, -0.50975984],\n",
       "       [-1.34069489, -1.1036548 ],\n",
       "       [ 0.09884866,  0.23260886],\n",
       "       [-0.09309048,  0.02474562],\n",
       "       [-0.38099919, -0.77701257],\n",
       "       [ 0.38675737,  0.17321936],\n",
       "       [-0.28502962, -0.48006509],\n",
       "       [ 0.38675737,  0.29199835],\n",
       "       [-0.18906005,  1.65795676],\n",
       "       [-1.24472532,  0.61864058],\n",
       "       [-0.86084704,  0.41077735],\n",
       "       [-0.6689079 , -0.09403337],\n",
       "       [-0.28502962, -0.65823358],\n",
       "       [-1.82054274, -1.31151803],\n",
       "       [-0.28502962,  2.31124122],\n",
       "       [ 0.19481823, -0.12372812],\n",
       "       [-1.14875575,  0.35138785],\n",
       "       [-0.09309048,  0.17321936],\n",
       "       [ 0.96257478,  1.47978827],\n",
       "       [ 0.09884866,  0.11382987],\n",
       "       [ 2.11420962, -0.80670732],\n",
       "       [ 0.2907878 ,  0.08413512],\n",
       "       [ 0.67466608, -0.71762308],\n",
       "       [-0.76487747, -1.60846551],\n",
       "       [ 0.19481823, -0.3612861 ],\n",
       "       [ 1.92227048, -0.92548631],\n",
       "       [ 1.15451392, -0.98487581],\n",
       "       [-1.34069489, -1.48968652],\n",
       "       [ 0.96257478,  1.92520949],\n",
       "       [-1.14875575, -1.60846551],\n",
       "       [ 1.05854435,  0.14352462],\n",
       "       [-1.43666446, -0.09403337],\n",
       "       [ 0.2907878 ,  0.08413512],\n",
       "       [-0.38099919,  1.27192504],\n",
       "       [ 0.38675737, -0.15342286],\n",
       "       [-0.28502962,  0.29199835],\n",
       "       [ 0.2907878 ,  0.08413512],\n",
       "       [-0.6689079 ,  0.58894583],\n",
       "       [-0.09309048,  2.01429374],\n",
       "       [-1.05278618, -0.45037034],\n",
       "       [-0.09309048,  2.28154647],\n",
       "       [ 0.19481823, -0.3612861 ],\n",
       "       [-1.53263403,  0.35138785],\n",
       "       [ 1.15451392,  0.55925109],\n",
       "       [-1.34069489, -1.25212854],\n",
       "       [-1.91651231, -0.03464387],\n",
       "       [ 1.05854435,  2.13307273],\n",
       "       [ 0.86660521,  1.30161979],\n",
       "       [ 0.86660521, -0.59884408],\n",
       "       [-0.28502962, -1.37090753],\n",
       "       [-0.6689079 , -1.60846551],\n",
       "       [-1.6286036 ,  0.55925109],\n",
       "       [ 0.19481823,  0.17321936],\n",
       "       [-0.95681661, -0.95518106],\n",
       "       [-0.09309048,  2.22215697],\n",
       "       [ 0.86660521,  1.1234513 ],\n",
       "       [ 1.34645306, -1.43029703],\n",
       "       [ 0.09884866,  0.79680907],\n",
       "       [-0.28502962, -0.4206756 ],\n",
       "       [ 1.25048349,  1.92520949],\n",
       "       [-1.82054274, -1.48968652],\n",
       "       [-1.05278618, -1.45999177],\n",
       "       [ 0.00287909, -0.53945459],\n",
       "       [ 1.63436177, -0.89579156],\n",
       "       [-0.95681661, -0.3018966 ],\n",
       "       [-0.76487747,  0.52955634],\n",
       "       [ 2.11420962, -0.68792833],\n",
       "       [ 0.77063564,  1.42039878],\n",
       "       [ 0.67466608,  0.29199835],\n",
       "       [ 0.67466608,  1.83612525],\n",
       "       [-1.34069489, -0.4206756 ],\n",
       "       [ 1.15451392, -1.45999177],\n",
       "       [ 0.67466608, -1.1036548 ],\n",
       "       [-0.47696876, -0.27220186],\n",
       "       [-1.82054274,  0.47016684],\n",
       "       [-1.05278618,  0.58894583],\n",
       "       [ 0.00287909, -0.3018966 ],\n",
       "       [-0.76487747,  1.95490424],\n",
       "       [-0.28502962,  0.82650382],\n",
       "       [-0.28502962,  1.15314605],\n",
       "       [ 0.48272694,  1.27192504],\n",
       "       [-1.14875575, -1.1036548 ],\n",
       "       [-1.43666446, -0.62853883],\n",
       "       [ 2.11420962, -0.80670732],\n",
       "       [-1.72457317,  0.14352462],\n",
       "       [-0.18906005, -0.27220186],\n",
       "       [-0.28502962,  0.08413512],\n",
       "       [-1.72457317,  0.49986159],\n",
       "       [-0.18906005, -0.45037034],\n",
       "       [ 1.63436177,  1.65795676],\n",
       "       [-0.09309048,  0.3216931 ],\n",
       "       [-0.09309048, -0.3612861 ],\n",
       "       [-1.91651231, -0.50975984],\n",
       "       [ 0.00287909,  0.05444037],\n",
       "       [-0.28502962, -0.56914934],\n",
       "       [-0.57293833,  1.42039878],\n",
       "       [ 2.01824005,  2.19246222],\n",
       "       [ 0.77063564, -1.22243379]])"
      ]
     },
     "execution_count": 5,
     "metadata": {},
     "output_type": "execute_result"
    }
   ],
   "source": [
    "from sklearn.preprocessing import StandardScaler\n",
    "sc = StandardScaler()\n",
    "sc.fit_transform(X_train)\n",
    "sc.transform(X_test)"
   ]
  },
  {
   "cell_type": "markdown",
   "id": "34672edf",
   "metadata": {},
   "source": [
    "### Fitting Kernel SVM to the Training set"
   ]
  },
  {
   "cell_type": "code",
   "execution_count": 6,
   "id": "e03e0fc2",
   "metadata": {},
   "outputs": [
    {
     "data": {
      "text/plain": [
       "SVC()"
      ]
     },
     "execution_count": 6,
     "metadata": {},
     "output_type": "execute_result"
    }
   ],
   "source": [
    "from sklearn.svm import SVC\n",
    "svc_clf = SVC()\n",
    "svc_clf.fit(X_train,y_train)"
   ]
  },
  {
   "cell_type": "markdown",
   "id": "ce8afd93",
   "metadata": {},
   "source": [
    "### Predicting the Test set results"
   ]
  },
  {
   "cell_type": "code",
   "execution_count": 7,
   "id": "fbc65d9f",
   "metadata": {},
   "outputs": [
    {
     "data": {
      "text/plain": [
       "array([0, 0, 0, 0, 0, 0, 0, 0, 0, 0, 1, 0, 0, 0, 0, 0, 1, 0, 0, 0, 1, 0,\n",
       "       0, 0, 0, 0, 0, 0, 0, 0, 1, 0, 0, 0, 0, 1, 0, 0, 0, 0, 1, 0, 1, 0,\n",
       "       0, 0, 0, 0, 1, 1, 0, 0, 0, 0, 0, 0, 1, 1, 0, 0, 0, 1, 0, 0, 0, 0,\n",
       "       0, 0, 0, 1, 0, 1, 0, 0, 0, 0, 0, 0, 0, 1, 0, 1, 1, 0, 0, 0, 0, 0,\n",
       "       0, 0, 0, 1, 0, 0, 0, 0, 0, 1, 1, 0], dtype=int64)"
      ]
     },
     "execution_count": 7,
     "metadata": {},
     "output_type": "execute_result"
    }
   ],
   "source": [
    "y_pred = svc_clf.predict(X_test)\n",
    "y_pred"
   ]
  },
  {
   "cell_type": "markdown",
   "id": "d276396d",
   "metadata": {},
   "source": [
    "### Finding the Confusion Matrix and Accuracy"
   ]
  },
  {
   "cell_type": "code",
   "execution_count": 8,
   "id": "647283ea",
   "metadata": {},
   "outputs": [
    {
     "name": "stdout",
     "output_type": "stream",
     "text": [
      "[[64  2]\n",
      " [16 18]]\n",
      "0.82\n"
     ]
    }
   ],
   "source": [
    "from sklearn.metrics import confusion_matrix , accuracy_score\n",
    "cm = confusion_matrix(y_test,y_pred)\n",
    "asc = accuracy_score(y_test,y_pred)\n",
    "print(cm)\n",
    "print(asc)"
   ]
  },
  {
   "cell_type": "markdown",
   "id": "bfd6e721",
   "metadata": {},
   "source": [
    "### Applying Grid Search to find the best model and the best parameters"
   ]
  },
  {
   "cell_type": "code",
   "execution_count": null,
   "id": "59ea35a8",
   "metadata": {},
   "outputs": [],
   "source": [
    "from sklearn.model_selection import GridSearchCV\n",
    "parameters = [\n",
    "    {\"C\":[1,10],\"kernel\":[\"linear\"]},\n",
    "    {\"C\":[1,10],\"kernel\":[\"rbf\"],\"gamma\":[0.5,0.6,0.7,0.8,0.9]}\n",
    "]\n",
    "\n",
    "gscv = GridSearchCV(\n",
    "    estimator = svc_clf,\n",
    "    param_grid = parameters,\n",
    "    scoring = \"accuracy\",\n",
    "    cv = 5,\n",
    "    n_jobs = -1\n",
    ")\n",
    "gscv.fit(X_train,y_train)"
   ]
  },
  {
   "cell_type": "code",
   "execution_count": null,
   "id": "d6f44a87",
   "metadata": {},
   "outputs": [],
   "source": [
    "accuracy = gscv.best_scores\n",
    "accuracy"
   ]
  },
  {
   "cell_type": "code",
   "execution_count": null,
   "id": "420ac358",
   "metadata": {},
   "outputs": [],
   "source": [
    "gscv.best_params"
   ]
  },
  {
   "cell_type": "code",
   "execution_count": null,
   "id": "57e5739f",
   "metadata": {},
   "outputs": [],
   "source": [
    "svc_clf = SVC(kernel = \"rbf\",gamma = )"
   ]
  },
  {
   "cell_type": "code",
   "execution_count": null,
   "id": "d650710c",
   "metadata": {},
   "outputs": [],
   "source": []
  }
 ],
 "metadata": {
  "kernelspec": {
   "display_name": "Python 3",
   "language": "python",
   "name": "python3"
  },
  "language_info": {
   "codemirror_mode": {
    "name": "ipython",
    "version": 3
   },
   "file_extension": ".py",
   "mimetype": "text/x-python",
   "name": "python",
   "nbconvert_exporter": "python",
   "pygments_lexer": "ipython3",
   "version": "3.8.8"
  }
 },
 "nbformat": 4,
 "nbformat_minor": 5
}
